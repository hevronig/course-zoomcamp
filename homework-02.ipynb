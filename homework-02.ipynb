{
 "cells": [
  {
   "cell_type": "markdown",
   "id": "a5de0f36-6945-4813-8671-e7d2a4905ec2",
   "metadata": {
    "tags": []
   },
   "source": [
    "## Session #2 Homework"
   ]
  },
  {
   "cell_type": "code",
   "execution_count": 1,
   "id": "616694a0-e12d-49fa-a5a4-fbf1cedc4c04",
   "metadata": {},
   "outputs": [],
   "source": [
    "%matplotlib inline\n",
    "\n",
    "import numpy as np\n",
    "import pandas as pd\n",
    "\n",
    "import matplotlib.pyplot as plt\n",
    "import seaborn as sns"
   ]
  },
  {
   "cell_type": "markdown",
   "id": "1a344af0-c4a7-4e3a-99e2-7326b758f054",
   "metadata": {},
   "source": [
    "Download data"
   ]
  },
  {
   "cell_type": "code",
   "execution_count": 2,
   "id": "3b9f996d-40a1-4fb9-a519-2431b078f564",
   "metadata": {},
   "outputs": [],
   "source": [
    "# !curl https://raw.githubusercontent.com/alexeygrigorev/datasets/master/AB_NYC_2019.csv -o AB_NYC_2019.csv"
   ]
  },
  {
   "cell_type": "markdown",
   "id": "46f00391-d23d-41dc-8a1a-01282b3535c0",
   "metadata": {},
   "source": [
    "Import data"
   ]
  },
  {
   "cell_type": "code",
   "execution_count": 3,
   "id": "7c04c50d-5e6c-45bf-af24-a0b4069901ad",
   "metadata": {},
   "outputs": [
    {
     "name": "stdout",
     "output_type": "stream",
     "text": [
      "(48895, 16)\n"
     ]
    },
    {
     "data": {
      "text/html": [
       "<div>\n",
       "<style scoped>\n",
       "    .dataframe tbody tr th:only-of-type {\n",
       "        vertical-align: middle;\n",
       "    }\n",
       "\n",
       "    .dataframe tbody tr th {\n",
       "        vertical-align: top;\n",
       "    }\n",
       "\n",
       "    .dataframe thead th {\n",
       "        text-align: right;\n",
       "    }\n",
       "</style>\n",
       "<table border=\"1\" class=\"dataframe\">\n",
       "  <thead>\n",
       "    <tr style=\"text-align: right;\">\n",
       "      <th></th>\n",
       "      <th>id</th>\n",
       "      <th>name</th>\n",
       "      <th>host_id</th>\n",
       "      <th>host_name</th>\n",
       "      <th>neighbourhood_group</th>\n",
       "      <th>neighbourhood</th>\n",
       "      <th>latitude</th>\n",
       "      <th>longitude</th>\n",
       "      <th>room_type</th>\n",
       "      <th>price</th>\n",
       "      <th>minimum_nights</th>\n",
       "      <th>number_of_reviews</th>\n",
       "      <th>last_review</th>\n",
       "      <th>reviews_per_month</th>\n",
       "      <th>calculated_host_listings_count</th>\n",
       "      <th>availability_365</th>\n",
       "    </tr>\n",
       "  </thead>\n",
       "  <tbody>\n",
       "    <tr>\n",
       "      <th>0</th>\n",
       "      <td>2539</td>\n",
       "      <td>Clean &amp; quiet apt home by the park</td>\n",
       "      <td>2787</td>\n",
       "      <td>John</td>\n",
       "      <td>Brooklyn</td>\n",
       "      <td>Kensington</td>\n",
       "      <td>40.64749</td>\n",
       "      <td>-73.97237</td>\n",
       "      <td>Private room</td>\n",
       "      <td>149</td>\n",
       "      <td>1</td>\n",
       "      <td>9</td>\n",
       "      <td>2018-10-19</td>\n",
       "      <td>0.21</td>\n",
       "      <td>6</td>\n",
       "      <td>365</td>\n",
       "    </tr>\n",
       "    <tr>\n",
       "      <th>1</th>\n",
       "      <td>2595</td>\n",
       "      <td>Skylit Midtown Castle</td>\n",
       "      <td>2845</td>\n",
       "      <td>Jennifer</td>\n",
       "      <td>Manhattan</td>\n",
       "      <td>Midtown</td>\n",
       "      <td>40.75362</td>\n",
       "      <td>-73.98377</td>\n",
       "      <td>Entire home/apt</td>\n",
       "      <td>225</td>\n",
       "      <td>1</td>\n",
       "      <td>45</td>\n",
       "      <td>2019-05-21</td>\n",
       "      <td>0.38</td>\n",
       "      <td>2</td>\n",
       "      <td>355</td>\n",
       "    </tr>\n",
       "    <tr>\n",
       "      <th>2</th>\n",
       "      <td>3647</td>\n",
       "      <td>THE VILLAGE OF HARLEM....NEW YORK !</td>\n",
       "      <td>4632</td>\n",
       "      <td>Elisabeth</td>\n",
       "      <td>Manhattan</td>\n",
       "      <td>Harlem</td>\n",
       "      <td>40.80902</td>\n",
       "      <td>-73.94190</td>\n",
       "      <td>Private room</td>\n",
       "      <td>150</td>\n",
       "      <td>3</td>\n",
       "      <td>0</td>\n",
       "      <td>NaN</td>\n",
       "      <td>NaN</td>\n",
       "      <td>1</td>\n",
       "      <td>365</td>\n",
       "    </tr>\n",
       "    <tr>\n",
       "      <th>3</th>\n",
       "      <td>3831</td>\n",
       "      <td>Cozy Entire Floor of Brownstone</td>\n",
       "      <td>4869</td>\n",
       "      <td>LisaRoxanne</td>\n",
       "      <td>Brooklyn</td>\n",
       "      <td>Clinton Hill</td>\n",
       "      <td>40.68514</td>\n",
       "      <td>-73.95976</td>\n",
       "      <td>Entire home/apt</td>\n",
       "      <td>89</td>\n",
       "      <td>1</td>\n",
       "      <td>270</td>\n",
       "      <td>2019-07-05</td>\n",
       "      <td>4.64</td>\n",
       "      <td>1</td>\n",
       "      <td>194</td>\n",
       "    </tr>\n",
       "    <tr>\n",
       "      <th>4</th>\n",
       "      <td>5022</td>\n",
       "      <td>Entire Apt: Spacious Studio/Loft by central park</td>\n",
       "      <td>7192</td>\n",
       "      <td>Laura</td>\n",
       "      <td>Manhattan</td>\n",
       "      <td>East Harlem</td>\n",
       "      <td>40.79851</td>\n",
       "      <td>-73.94399</td>\n",
       "      <td>Entire home/apt</td>\n",
       "      <td>80</td>\n",
       "      <td>10</td>\n",
       "      <td>9</td>\n",
       "      <td>2018-11-19</td>\n",
       "      <td>0.10</td>\n",
       "      <td>1</td>\n",
       "      <td>0</td>\n",
       "    </tr>\n",
       "  </tbody>\n",
       "</table>\n",
       "</div>"
      ],
      "text/plain": [
       "     id                                              name  host_id  \\\n",
       "0  2539                Clean & quiet apt home by the park     2787   \n",
       "1  2595                             Skylit Midtown Castle     2845   \n",
       "2  3647               THE VILLAGE OF HARLEM....NEW YORK !     4632   \n",
       "3  3831                   Cozy Entire Floor of Brownstone     4869   \n",
       "4  5022  Entire Apt: Spacious Studio/Loft by central park     7192   \n",
       "\n",
       "     host_name neighbourhood_group neighbourhood  latitude  longitude  \\\n",
       "0         John            Brooklyn    Kensington  40.64749  -73.97237   \n",
       "1     Jennifer           Manhattan       Midtown  40.75362  -73.98377   \n",
       "2    Elisabeth           Manhattan        Harlem  40.80902  -73.94190   \n",
       "3  LisaRoxanne            Brooklyn  Clinton Hill  40.68514  -73.95976   \n",
       "4        Laura           Manhattan   East Harlem  40.79851  -73.94399   \n",
       "\n",
       "         room_type  price  minimum_nights  number_of_reviews last_review  \\\n",
       "0     Private room    149               1                  9  2018-10-19   \n",
       "1  Entire home/apt    225               1                 45  2019-05-21   \n",
       "2     Private room    150               3                  0         NaN   \n",
       "3  Entire home/apt     89               1                270  2019-07-05   \n",
       "4  Entire home/apt     80              10                  9  2018-11-19   \n",
       "\n",
       "   reviews_per_month  calculated_host_listings_count  availability_365  \n",
       "0               0.21                               6               365  \n",
       "1               0.38                               2               355  \n",
       "2                NaN                               1               365  \n",
       "3               4.64                               1               194  \n",
       "4               0.10                               1                 0  "
      ]
     },
     "execution_count": 3,
     "metadata": {},
     "output_type": "execute_result"
    }
   ],
   "source": [
    "data = pd.read_csv('AB_NYC_2019.csv')\n",
    "print(data.shape)\n",
    "data.head()"
   ]
  },
  {
   "cell_type": "code",
   "execution_count": 4,
   "id": "f4ab865f-ace7-4f9e-b101-473606e849dc",
   "metadata": {},
   "outputs": [
    {
     "data": {
      "image/png": "[encoded data removed]",
      "text/plain": [
       "<Figure size 360x360 with 1 Axes>"
      ]
     },
     "metadata": {
      "needs_background": "light"
     },
     "output_type": "display_data"
    }
   ],
   "source": [
    "sns.displot(data=data, x='price', bins=50);"
   ]
  },
  {
   "cell_type": "markdown",
   "id": "b1f228d9-fa51-4a95-8926-f485c7d81129",
   "metadata": {},
   "source": [
    "The price data has a long tail."
   ]
  },
  {
   "cell_type": "code",
   "execution_count": 5,
   "id": "6165caa7-1409-4e20-859f-83e168e38693",
   "metadata": {},
   "outputs": [],
   "source": [
    "# subset the data\n",
    "features = ['latitude', 'longitude', 'price', 'minimum_nights', 'number_of_reviews', 'reviews_per_month', 'calculated_host_listings_count', 'availability_365']\n",
    "data = data[features]"
   ]
  },
  {
   "cell_type": "markdown",
   "id": "8e59b6f8-3a03-4540-b39a-2bed11a2108e",
   "metadata": {},
   "source": [
    "---\n",
    "Quesion 1: Find a feature with missing values. How many missing values does it have?"
   ]
  },
  {
   "cell_type": "code",
   "execution_count": 6,
   "id": "0cbb3fd1-b6c4-4e7f-bc2c-f147b03952c1",
   "metadata": {},
   "outputs": [
    {
     "name": "stdout",
     "output_type": "stream",
     "text": [
      "<class 'pandas.core.frame.DataFrame'>\n",
      "RangeIndex: 48895 entries, 0 to 48894\n",
      "Data columns (total 8 columns):\n",
      " #   Column                          Non-Null Count  Dtype  \n",
      "---  ------                          --------------  -----  \n",
      " 0   latitude                        48895 non-null  float64\n",
      " 1   longitude                       48895 non-null  float64\n",
      " 2   price                           48895 non-null  int64  \n",
      " 3   minimum_nights                  48895 non-null  int64  \n",
      " 4   number_of_reviews               48895 non-null  int64  \n",
      " 5   reviews_per_month               38843 non-null  float64\n",
      " 6   calculated_host_listings_count  48895 non-null  int64  \n",
      " 7   availability_365                48895 non-null  int64  \n",
      "dtypes: float64(3), int64(5)\n",
      "memory usage: 3.0 MB\n"
     ]
    }
   ],
   "source": [
    "data.info()"
   ]
  },
  {
   "cell_type": "markdown",
   "id": "8746ae98-5080-401c-9ad5-997465d82eb8",
   "metadata": {},
   "source": [
    "The feature `reviews_per_month` has missing values"
   ]
  },
  {
   "cell_type": "code",
   "execution_count": 7,
   "id": "7a5bb86a-249a-4b16-9e70-07cb9cbbd2be",
   "metadata": {},
   "outputs": [
    {
     "name": "stdout",
     "output_type": "stream",
     "text": [
      "There are 10052 missing values in the feature reviews_per_month\n"
     ]
    }
   ],
   "source": [
    "print(f'There are {data.reviews_per_month.isnull().sum()} missing values in the feature reviews_per_month')"
   ]
  },
  {
   "cell_type": "markdown",
   "id": "3c44331b-579f-4f36-bd36-337f04568b75",
   "metadata": {},
   "source": [
    "---\n",
    "Question 2: What's the median (50% percentile) for variable 'minimum_nights'?"
   ]
  },
  {
   "cell_type": "code",
   "execution_count": 8,
   "id": "19b04be1-69c4-4bff-817d-31bb65a6e204",
   "metadata": {},
   "outputs": [
    {
     "name": "stdout",
     "output_type": "stream",
     "text": [
      "The median for feature minimum_nights is 3.0\n"
     ]
    }
   ],
   "source": [
    "print(f'The median for feature minimum_nights is {data.minimum_nights.median()}')"
   ]
  },
  {
   "cell_type": "markdown",
   "id": "5881bfaf-abb6-49d6-ad8c-facef388d61a",
   "metadata": {},
   "source": [
    "---\n",
    "#### Split the data\n",
    "- Shuffle the initial dataset, use seed 42.\n",
    "- Split your data in train/val/test sets, with 60%/20%/20% distribution.\n",
    "- Make sure that the target value ('price') is not in your dataframe.\n",
    "- Apply the log transformation to the price variable using the np.log1p() function."
   ]
  },
  {
   "cell_type": "code",
   "execution_count": 9,
   "id": "23e50374-de8f-4581-a24c-bcd43285a9dc",
   "metadata": {},
   "outputs": [],
   "source": [
    "def clean_data(df, fillna=0):\n",
    "    \"\"\"\n",
    "    Fill missing value with fillna=0 or fillna='mean (default 0)')\n",
    "    \"\"\"\n",
    "    if fillna == 0:\n",
    "        return df.fillna(0)\n",
    "    elif fillna == 'mean':\n",
    "        return df.fillna(df.mean())\n",
    "    else:\n",
    "        print('Invalid method. Please use 0 or mean.')\n",
    "\n",
    "def prepare_X(df, fillna=0):\n",
    "    df = df.copy()    \n",
    "    df_clean = clean_data(df, fillna)\n",
    "    X = df_clean.values\n",
    "\n",
    "    return X"
   ]
  },
  {
   "cell_type": "code",
   "execution_count": 10,
   "id": "3c17f724-28e2-4fb1-be5e-19909035a1ab",
   "metadata": {},
   "outputs": [],
   "source": [
    "np.random.seed(42) # set random seed for reproducibility\n",
    "\n",
    "n = len(data) # length of data\n",
    "\n",
    "n_val = int(n * 0.2) # set validation length to 20% of data\n",
    "n_test = int(n * 0.2) # set test length to 20% of data\n",
    "n_train = n - (n_val + n_test) # set train length to 60% of data\n",
    "\n",
    "idx = np.arange(n) # index range\n",
    "np.random.shuffle(idx) # shuffle indices\n",
    "\n",
    "data_shuffled = data.iloc[idx] # shuffle data\n",
    "\n",
    "# training set\n",
    "df_train = data_shuffled.iloc[:n_train].copy() # split the training set 20%\n",
    "y_train = np.log1p(df_train.price.values) # save targets to y (log transform)\n",
    "df_train = df_train.drop('price', axis=1) # remove target from data\n",
    "# validation set\n",
    "df_val = data_shuffled.iloc[n_train:n_train+n_val].copy() # split the validation set 20%\n",
    "y_val = np.log1p(df_val.price.values) # save targets to y (log transform)\n",
    "df_val = df_val.drop('price', axis=1) # remove target from data\n",
    "# test set\n",
    "df_test = data_shuffled.iloc[n_val:].copy() # split the test set 60%\n",
    "y_test = np.log1p(df_test.price.values) # save targets to y (log transform)\n",
    "df_test = df_test.drop('price', axis=1) # remove target from data"
   ]
  },
  {
   "cell_type": "markdown",
   "id": "2b184ed3-a521-4160-95f8-fc5472e20659",
   "metadata": {},
   "source": [
    "---\n",
    "#### Question 3\n",
    "- We need to deal with missing values for the column from Q1.\n",
    "- We have two options: fill it with 0 or with the mean of this variable.\n",
    "- Try both options. For each, train a linear regression model without regularization using the code from the lessons.\n",
    "- For computing the mean, use the training only!\n",
    "- Use the validation dataset to evaluate the models and compare the RMSE of each option.\n",
    "- Round the RMSE scores to 2 decimal digits using round(score, 2)\n",
    "- Which option gives better RMSE?"
   ]
  },
  {
   "cell_type": "code",
   "execution_count": 11,
   "id": "747bde82-13ed-4847-b140-41f0e7004fc8",
   "metadata": {},
   "outputs": [],
   "source": [
    "def train_linear_regression(X, y):\n",
    "    \"\"\"\n",
    "    Manual implementation of linear regression\n",
    "    \"\"\"\n",
    "    ones = np.ones(X.shape[0]) # create w0 column of ones with length of X\n",
    "    X = np.column_stack([ones,X]) # add ones column to X\n",
    "    XTX = X.T @ X # normal equation, X transpose dot X\n",
    "    XTX_inv = np.linalg.inv(XTX) # inverse of XTX\n",
    "    w = XTX_inv @ X.T @ y # calculate weights\n",
    "    \n",
    "    return w[0], w[1:] # return the bias term w0 and the weights\n",
    "\n",
    "def rmse(y, y_pred):\n",
    "    \"\"\"\n",
    "    Calculate Root Mean Squared Error (RMSE) \n",
    "    \"\"\"\n",
    "    se = (y - y_pred)**2\n",
    "    mse = se.mean()\n",
    "    return np.sqrt(mse)\n"
   ]
  },
  {
   "cell_type": "markdown",
   "id": "c990a203-d655-4b7e-be6e-1955289d86d2",
   "metadata": {},
   "source": [
    "**Training set**"
   ]
  },
  {
   "cell_type": "code",
   "execution_count": 12,
   "id": "392d1077-d091-40b0-acf2-de3b0e6a8fcd",
   "metadata": {},
   "outputs": [
    {
     "name": "stdout",
     "output_type": "stream",
     "text": [
      "fillna = 0, RMSE 0.64\n"
     ]
    }
   ],
   "source": [
    "fillna = 0\n",
    "X_train = prepare_X(df_train, fillna=fillna)\n",
    "w0, w = train_linear_regression(X_train, y_train)\n",
    "y_pred = w0 + X_train @ w\n",
    "\n",
    "score = rmse(y_train, y_pred)\n",
    "print(f'fillna = {fillna}, RMSE {np.round(score,2)}')"
   ]
  },
  {
   "cell_type": "code",
   "execution_count": 13,
   "id": "2ab326b0-cc7b-4f28-a013-95ea083d7980",
   "metadata": {},
   "outputs": [
    {
     "name": "stdout",
     "output_type": "stream",
     "text": [
      "fillna = mean, RMSE 0.64\n"
     ]
    }
   ],
   "source": [
    "fillna = 'mean'\n",
    "X_train = prepare_X(df_train, fillna=fillna)\n",
    "w0, w = train_linear_regression(X_train, y_train)\n",
    "y_pred = w0 + X_train @ w\n",
    "\n",
    "score = rmse(y_train, y_pred)\n",
    "print(f'fillna = {fillna}, RMSE {np.round(score,2)}')"
   ]
  },
  {
   "cell_type": "markdown",
   "id": "e74d971a-a380-4b68-94e1-e840109ee2dc",
   "metadata": {},
   "source": [
    "_In this case, filling the missing values with either 0 or mean gives approximately the same RMSE score on the training set_"
   ]
  },
  {
   "cell_type": "markdown",
   "id": "0f009e80-48fd-4792-854c-27445838f311",
   "metadata": {},
   "source": [
    "\n",
    "**Validation set**"
   ]
  },
  {
   "cell_type": "code",
   "execution_count": 14,
   "id": "232a5bdc-71a3-405f-9038-a8c5c26a6109",
   "metadata": {},
   "outputs": [
    {
     "name": "stdout",
     "output_type": "stream",
     "text": [
      "fillna = 0, RMSE 0.64\n"
     ]
    }
   ],
   "source": [
    "fillna = 0\n",
    "X_train = prepare_X(df_train, fillna=fillna)\n",
    "w0, w = train_linear_regression(X_train, y_train)\n",
    "\n",
    "X_val = prepare_X(df_val, fillna=fillna)\n",
    "y_pred = w0 + X_val @ w\n",
    "\n",
    "score = rmse(y_val, y_pred)\n",
    "print(f'fillna = {fillna}, RMSE {np.round(score,2)}')"
   ]
  },
  {
   "cell_type": "code",
   "execution_count": 15,
   "id": "c91d1030-d693-4d2c-9726-086ccaccb0c1",
   "metadata": {},
   "outputs": [
    {
     "name": "stdout",
     "output_type": "stream",
     "text": [
      "fillna = mean, RMSE 0.64\n"
     ]
    }
   ],
   "source": [
    "fillna = 'mean'\n",
    "X_train = prepare_X(df_train, fillna=fillna)\n",
    "w0, w = train_linear_regression(X_train, y_train)\n",
    "\n",
    "X_val = prepare_X(df_val, fillna=fillna)\n",
    "y_pred = w0 + X_val @ w\n",
    "\n",
    "score = rmse(y_val, y_pred)\n",
    "print(f'fillna = {fillna}, RMSE {np.round(score,2)}')"
   ]
  },
  {
   "cell_type": "markdown",
   "id": "e34414fd-f251-4521-ba82-a082e5c26619",
   "metadata": {},
   "source": [
    "_In this case, filling the missing values with either 0 or mean gives approximately the same RMSE score on the training and validation sets_"
   ]
  },
  {
   "cell_type": "markdown",
   "id": "ad563378-0078-40e2-bdc7-3f4854169e27",
   "metadata": {
    "tags": []
   },
   "source": [
    "---\n",
    "#### Question 4\n",
    "\n",
    "- Now let's train a regularized linear regression.\n",
    "- For this question, fill the NAs with 0.\n",
    "- Try different values of `r` from this list: `[0, 0.000001, 0.0001, 0.001, 0.01, 0.1, 1, 5, 10]`.\n",
    "- Use RMSE to evaluate the model on the validation dataset.\n",
    "- Round the RMSE scores to 2 decimal digits.\n",
    "- Which `r` gives the best RMSE?\n",
    "\n",
    "If there are multiple options, select the smallest `r`."
   ]
  },
  {
   "cell_type": "code",
   "execution_count": 16,
   "id": "59ad9b0c-21a0-4b9a-9c2d-4e886cfaba73",
   "metadata": {},
   "outputs": [],
   "source": [
    "def train_linear_regression_reg(X, y, r=0.001):\n",
    "    \"\"\"\n",
    "    Manual implementation of linear regression\n",
    "    \"\"\"\n",
    "    ones = np.ones(X.shape[0]) # create w0 column of ones with length of X\n",
    "    X = np.column_stack([ones,X]) # add ones column to X\n",
    "    XTX = X.T @ X # normal equation, X transpose dot X\n",
    "    XTX = XTX + r * np.eye(XTX.shape[0]) # add regularization term\n",
    "    XTX_inv = np.linalg.inv(XTX) # inverse of XTX\n",
    "    w = XTX_inv @ X.T @ y # calculate weights\n",
    "    \n",
    "    return w[0], w[1:] # return the bias term w0 and the weights"
   ]
  },
  {
   "cell_type": "code",
   "execution_count": 17,
   "id": "459f66d8-7a67-4b53-bb59-72a44f22ebc0",
   "metadata": {},
   "outputs": [
    {
     "name": "stdout",
     "output_type": "stream",
     "text": [
      "0 -419.91265866086724 0.6430338\n",
      "1e-06 -419.86271584310543 0.6430341\n",
      "0.0001 -414.9764926433289 0.6430723\n",
      "0.001 -375.27365274892543 0.643767\n",
      "0.01 -191.7838405478213 0.6557528\n",
      "0.1 -32.562560550033176 0.67733\n",
      "1 -3.499216833574792 0.6823117\n",
      "5 -0.7033623186161135 0.6827916\n",
      "10 -0.35127676047352 0.682843\n"
     ]
    }
   ],
   "source": [
    "reg_terms = [0, 0.000001, 0.0001, 0.001, 0.01, 0.1, 1, 5, 10]\n",
    "scores = []\n",
    "\n",
    "X_train = prepare_X(df_train)\n",
    "X_val = prepare_X(df_val)\n",
    "\n",
    "for r in reg_terms:    \n",
    "    w0, w = train_linear_regression_reg(X_train, y_train, r)\n",
    "    y_pred = w0 + X_val @ w\n",
    "    score = rmse(y_val, y_pred)\n",
    "    scores.append(np.round(score,2))\n",
    "    \n",
    "    print(r, w0, np.round(score,7))"
   ]
  },
  {
   "cell_type": "code",
   "execution_count": 18,
   "id": "e9cd72fc-efcd-41a9-bd9d-f37831f2bc91",
   "metadata": {},
   "outputs": [
    {
     "name": "stdout",
     "output_type": "stream",
     "text": [
      "The r with the smallest RMSE score is 0 (at the sixth decimal digit)\n"
     ]
    }
   ],
   "source": [
    "print('The r with the smallest RMSE score is 0 (at the sixth decimal digit)')"
   ]
  },
  {
   "cell_type": "markdown",
   "id": "bbaaba99-a0a9-4021-813f-73ce8932a795",
   "metadata": {},
   "source": [
    "#### Question 5\n",
    "- We used seed 42 for splitting the data. Let's find out how selecting the seed influences our score.\n",
    "- Try different seed values: `[0, 1, 2, 3, 4, 5, 6, 7, 8, 9]`.\n",
    "- For each seed, do the train/validation/test split with 60%/20%/20% distribution.\n",
    "- Fill the missing values with 0 and train a model without regularization.\n",
    "- For each seed, evaluate the model on the validation dataset and collect the RMSE scores.\n",
    "- What's the standard deviation of all the scores? To compute the standard deviation, use `np.std`.\n",
    "- Round the result to 3 decimal digits (`round(std, 3)`)\n",
    "\n",
    ">Note: Standard deviation shows how different the values are. If it's low, then all values are approximately the same. If it's high, the values are different. If standard deviation of scores is low, then our model is stable."
   ]
  },
  {
   "cell_type": "code",
   "execution_count": 19,
   "id": "a5669e53-5d7a-4217-b4da-2e788ecae75a",
   "metadata": {},
   "outputs": [],
   "source": [
    "scores = []\n",
    "for seed in [0, 1, 2, 3, 4, 5, 6, 7, 8, 9]:\n",
    "    np.random.seed(seed) # set random seed\n",
    "    \n",
    "    # split the data to train, validation, test sets\n",
    "    n = len(data) # length of data\n",
    "    n_val = int(n * 0.2) # set validation length to 20% of data\n",
    "    n_test = int(n * 0.2) # set test length to 20% of data\n",
    "    n_train = n - (n_val + n_test) # set train length to 60% of data\n",
    "    idx = np.arange(n) # index range\n",
    "    np.random.shuffle(idx) # shuffle indices\n",
    "    data_shuffled = data.iloc[idx] # shuffle data\n",
    "    # training set\n",
    "    df_train = data_shuffled.iloc[:n_train].copy() # split the training set 20%\n",
    "    y_train = np.log1p(df_train.price.values) # save targets to y (log transform)\n",
    "    df_train = df_train.drop('price', axis=1) # remove target from data\n",
    "    # validation set\n",
    "    df_val = data_shuffled.iloc[n_train:n_train+n_val].copy() # split the validation set 20%\n",
    "    y_val = np.log1p(df_val.price.values) # save targets to y (log transform)\n",
    "    df_val = df_val.drop('price', axis=1) # remove target from data\n",
    "    # test set\n",
    "    df_test = data_shuffled.iloc[n_val:].copy() # split the test set 60%\n",
    "    y_test = np.log1p(df_test.price.values) # save targets to y (log transform)\n",
    "    df_test = df_test.drop('price', axis=1) # remove target from data\n",
    "\n",
    "    # validate the model\n",
    "    X_train = prepare_X(df_train)\n",
    "    w0, w = train_linear_regression(X_train, y_train)\n",
    "    X_val = prepare_X(df_val)\n",
    "    y_pred = w0 + X_val @ w\n",
    "    score = rmse(y_val, y_pred)\n",
    "    \n",
    "    # save scores\n",
    "    scores.append(score)"
   ]
  },
  {
   "cell_type": "code",
   "execution_count": 20,
   "id": "4fb39c27-8368-44e0-a080-d78aa6116e89",
   "metadata": {},
   "outputs": [
    {
     "name": "stdout",
     "output_type": "stream",
     "text": [
      "The standard deviation for the different random seeds is: 0.008\n"
     ]
    }
   ],
   "source": [
    "scores_std = np.std(scores)\n",
    "print(f'The standard deviation for the different random seeds is: {np.round(scores_std,3)}')"
   ]
  },
  {
   "cell_type": "markdown",
   "id": "dd20c8d1-61d8-4fa8-a049-e6d509073a9c",
   "metadata": {},
   "source": [
    "---\n",
    "#### Question 6\n",
    "- Split the dataset like previously, use seed 9.\n",
    "- Combine train and validation datasets.\n",
    "- Fill the missing values with 0 and train a model with `r=0.001`.\n",
    "- What's the RMSE on the test dataset?"
   ]
  },
  {
   "cell_type": "code",
   "execution_count": 21,
   "id": "06f2c8cc-d5e4-43bf-9192-498ff5ab9a97",
   "metadata": {},
   "outputs": [
    {
     "data": {
      "text/plain": [
       "0.644244153194359"
      ]
     },
     "execution_count": 21,
     "metadata": {},
     "output_type": "execute_result"
    }
   ],
   "source": [
    "np.random.seed(9)\n",
    "\n",
    "df_train_val = pd.concat([df_train, df_val]) # combine train and validation sets\n",
    "y_train_val = np.concatenate([y_train, y_val]) # combine y for both sets\n",
    "X_train_val = prepare_X(df_train_val)\n",
    "\n",
    "assert len(X_train_val) == len(y_train_val) # make sure the combined X and y are of the same length\n",
    "\n",
    "r = 0.001\n",
    "w0, w = train_linear_regression_reg(X_train_val, y_train_val, r=r)\n",
    "\n",
    "X_test = prepare_X(df_test)\n",
    "y_pred = w0 + X_test.dot(w)\n",
    "score = rmse(y_test, y_pred)\n",
    "score"
   ]
  },
  {
   "cell_type": "markdown",
   "id": "37579421-fac7-4b5c-b2b0-bd450031354c",
   "metadata": {},
   "source": [
    "---\n",
    "Fin"
   ]
  }
 ],
 "metadata": {
  "kernelspec": {
   "display_name": "Python 3 (ipykernel)",
   "language": "python",
   "name": "python3"
  },
  "language_info": {
   "codemirror_mode": {
    "name": "ipython",
    "version": 3
   },
   "file_extension": ".py",
   "mimetype": "text/x-python",
   "name": "python",
   "nbconvert_exporter": "python",
   "pygments_lexer": "ipython3",
   "version": "3.8.11"
  }
 },
 "nbformat": 4,
 "nbformat_minor": 5
}
